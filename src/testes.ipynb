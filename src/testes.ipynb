{
 "cells": [
  {
   "cell_type": "code",
   "execution_count": 24,
   "metadata": {},
   "outputs": [
    {
     "name": "stdout",
     "output_type": "stream",
     "text": [
      "['Emc2.png', 'Eq1.png', 'Eq2.png', 'Eq3.png', 'Eq4.png', 'Eq5.png', 'Fourier.png', 'PaperEquation.png', 'Template_E.png']\n",
      "..\\data\\Emc2.png\n",
      "..\\data\\Eq1.png\n",
      "..\\data\\Eq2.png\n",
      "..\\data\\Eq3.png\n",
      "..\\data\\Eq4.png\n",
      "..\\data\\Eq5.png\n",
      "..\\data\\Fourier.png\n",
      "..\\data\\PaperEquation.png\n",
      "..\\data\\Template_E.png\n"
     ]
    }
   ],
   "source": [
    "\n",
    "for d,p,f in os.walk(r\"..\\data\"):\n",
    "    print(f)\n",
    "\n",
    "allfiles = [os.path.join(root,f) for root,dirs,files in os.walk(\"..\\data\") for f in files]\n",
    "for f in allfiles:\n",
    "        print(f)"
   ]
  },
  {
   "cell_type": "code",
   "execution_count": 37,
   "metadata": {},
   "outputs": [
    {
     "data": {
      "application/vnd.jupyter.widget-view+json": {
       "model_id": "5bae83c0dcf94b998fe9ab4b23aefd69",
       "version_major": 2,
       "version_minor": 0
      },
      "text/plain": [
       "interactive(children=(IntSlider(value=5, description='x', max=200, min=1), IntSlider(value=5, description='y',…"
      ]
     },
     "metadata": {},
     "output_type": "display_data"
    },
    {
     "data": {
      "text/plain": [
       "<function __main__.contornos(x=5, y=5)>"
      ]
     },
     "execution_count": 37,
     "metadata": {},
     "output_type": "execute_result"
    }
   ],
   "source": [
    "\"\"\"\n",
    "Tentando utilizar busca por contornos\n",
    "\"\"\"\n",
    "import os\n",
    "import numpy as np\n",
    "import cv2\n",
    "from matplotlib import pyplot as plt\n",
    "from ipywidgets import interact\n",
    "\n",
    "allfiles = [os.path.join(root,f) for root,dirs,files in os.walk(\"..\\data\") for f in files]\n",
    "\n",
    "def contornos(x=5,y=5):\n",
    "    #  Le imagem do arquivo\n",
    "    img_rgb = cv2.imread(r\"..\\data\\Eq2.png\", cv2.IMREAD_COLOR)\n",
    "    img_rgb = cv2.resize(img_rgb,(600,400),cv2.INTER_AREA)\n",
    "\n",
    "    # Transforma em escala de cinza\n",
    "    gray = cv2.cvtColor(img_rgb, cv2.COLOR_BGR2GRAY)\n",
    "    # Performing OTSU threshold\n",
    "    ret, thresh1 = cv2.threshold(gray, 0, 255, cv2.THRESH_OTSU | cv2.THRESH_BINARY_INV)\n",
    "\n",
    "    # Specify structure shape and kernel size.\n",
    "    # Kernel size increases or decreases the area\n",
    "    # of the rectangle to be detected.\n",
    "    # A smaller value like (10, 10) will detect\n",
    "    # each word instead of a sentence.\n",
    "    rect_kernel = cv2.getStructuringElement(cv2.MORPH_RECT, (x, y))\n",
    "\n",
    "    # Applying dilation on the threshold image\n",
    "    dilation = cv2.dilate(thresh1, rect_kernel, iterations=1)\n",
    "\n",
    "    # Finding contours\n",
    "    contours, hierarchy = cv2.findContours(\n",
    "        dilation, cv2.RETR_EXTERNAL, cv2.CHAIN_APPROX_NONE\n",
    "    )\n",
    "\n",
    "    # Creating a copy of image\n",
    "    im2 = gray.copy()\n",
    "\n",
    "    # Looping through the identified contours\n",
    "    # Then rectangular part is cropped and passed on\n",
    "    # to pytesseract for extracting text from it\n",
    "    # Extracted text is then written into the text file\n",
    "    for cnt in contours:\n",
    "        x, y, w, h = cv2.boundingRect(cnt)\n",
    "\n",
    "        # Drawing a rectangle on copied image\n",
    "        rect = cv2.rectangle(gray, (x, y), (x + w, y + h), (0, 255, 0), 2)\n",
    "\n",
    "        # Cropping the text block for giving input to OCR\n",
    "        cropped = gray[y : y + h, x : x + w]\n",
    "\n",
    "    plt.imshow(rect,\"gray\")\n",
    "    plt.show()\n",
    "\n",
    "\n",
    "interact(contornos, x=(1, 200), y=(1, 200))\n"
   ]
  },
  {
   "cell_type": "code",
   "execution_count": 2,
   "metadata": {},
   "outputs": [
    {
     "data": {
      "image/png": "[encoded data removed]",
      "text/plain": [
       "<Figure size 640x480 with 1 Axes>"
      ]
     },
     "metadata": {},
     "output_type": "display_data"
    }
   ],
   "source": [
    "#  Le imagem do arquivo\n",
    "img_rgb = cv2.imread(r\"..\\data\\fourier.png\", cv2.IMREAD_COLOR)\n",
    "\n",
    "# Transforma em escala de cinza\n",
    "gray = cv2.cvtColor(img_rgb, cv2.COLOR_BGR2GRAY)\n",
    "# Performing OTSU threshold\n",
    "ret, thresh1 = cv2.threshold(gray, 0, 255, cv2.THRESH_OTSU | cv2.THRESH_BINARY_INV)\n",
    "\n",
    "# Specify structure shape and kernel size.\n",
    "# Kernel size increases or decreases the area\n",
    "# of the rectangle to be detected.\n",
    "# A smaller value like (10, 10) will detect\n",
    "# each word instead of a sentence.\n",
    "rect_kernel = cv2.getStructuringElement(cv2.MORPH_RECT, (6,46))\n",
    "\n",
    "# Applying dilation on the threshold image\n",
    "dilation = cv2.dilate(thresh1, rect_kernel, iterations=1)\n",
    "\n",
    "# Finding contours\n",
    "contours, hierarchy = cv2.findContours(\n",
    "    dilation, cv2.RETR_EXTERNAL, cv2.CHAIN_APPROX_NONE\n",
    ")\n",
    "\n",
    "# Creating a copy of image\n",
    "im2 = gray.copy()\n",
    "\n",
    "# Looping through the identified contours\n",
    "# Then rectangular part is cropped and passed on\n",
    "# to pytesseract for extracting text from it\n",
    "# Extracted text is then written into the text file\n",
    "for cnt in contours:\n",
    "    x, y, w, h = cv2.boundingRect(cnt)\n",
    "\n",
    "    # Drawing a rectangle on copied image\n",
    "    rect = cv2.rectangle(gray, (x, y), (x + w, y + h), (0, 255, 0), 2)\n",
    "\n",
    "    # Cropping the text block for giving input to OCR\n",
    "    cropped = gray[y : y + h, x : x + w]\n",
    "\n",
    "plt.subplot(111)\n",
    "plt.imshow(rect, \"gray\")\n",
    "plt.show()"
   ]
  }
 ],
 "metadata": {
  "kernelspec": {
   "display_name": "VisComp",
   "language": "python",
   "name": "python3"
  },
  "language_info": {
   "codemirror_mode": {
    "name": "ipython",
    "version": 3
   },
   "file_extension": ".py",
   "mimetype": "text/x-python",
   "name": "python",
   "nbconvert_exporter": "python",
   "pygments_lexer": "ipython3",
   "version": "3.11.0"
  },
  "orig_nbformat": 4
 },
 "nbformat": 4,
 "nbformat_minor": 2
}
